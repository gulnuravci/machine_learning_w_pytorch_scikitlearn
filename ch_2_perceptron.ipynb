{
  "nbformat": 4,
  "nbformat_minor": 0,
  "metadata": {
    "colab": {
      "provenance": [],
      "authorship_tag": "ABX9TyMZiS0iYIOsnzm+gkzVuZlm",
      "include_colab_link": true
    },
    "kernelspec": {
      "name": "python3",
      "display_name": "Python 3"
    },
    "language_info": {
      "name": "python"
    }
  },
  "cells": [
    {
      "cell_type": "markdown",
      "metadata": {
        "id": "view-in-github",
        "colab_type": "text"
      },
      "source": [
        "<a href=\"https://colab.research.google.com/github/gulnuravci/machine_learning_w_pytorch_scikitlearn/blob/main/ch_2_perceptron.ipynb\" target=\"_parent\"><img src=\"https://colab.research.google.com/assets/colab-badge.svg\" alt=\"Open In Colab\"/></a>"
      ]
    },
    {
      "cell_type": "markdown",
      "source": [
        "![image.png](data:image/png;base64,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)"
      ],
      "metadata": {
        "id": "Wh37XRu9I0ig"
      }
    },
    {
      "cell_type": "code",
      "execution_count": null,
      "metadata": {
        "id": "w6aoYZ73FYVa"
      },
      "outputs": [],
      "source": [
        "import numpy as np\n",
        "import os\n",
        "import pandas as pd\n",
        "import matplotlib.pyplot as plt\n",
        "\n",
        "from matplotlib.colors import ListedColormap"
      ]
    },
    {
      "cell_type": "code",
      "source": [
        "class Perceptron:\n",
        "  def __init__(self, learning_rate=0.01, epochs=50, random_seed=42):\n",
        "    \"\"\"\n",
        "    Perceptron classifier.\n",
        "\n",
        "    Parameters:\n",
        "    learning_rate : float\n",
        "      Learning rate (between 0.0 and 1.0)\n",
        "    epochs : int\n",
        "      Passes over the training dataset.\n",
        "    random_seed : int\n",
        "      Random number generator seed for\n",
        "      random weight initialization.\n",
        "\n",
        "    Attributes:\n",
        "    w_ : 1d-array\n",
        "      Weights after fitting.\n",
        "    b_ : Scalar\n",
        "      Bias unit after fitting.\n",
        "    errors_ : list\n",
        "      Number of misclassifications (updates) in each epoch.\n",
        "    \"\"\"\n",
        "    self.learning_rate = learning_rate\n",
        "    self.epochs = epochs\n",
        "    self.random_seed = random_seed\n",
        "\n",
        "  def fit(self, X, y):\n",
        "    \"\"\"\n",
        "    Fit training data.\n",
        "\n",
        "    Parameters:\n",
        "    X : {array-like}, shape = [n_examples, n_features]\n",
        "      Training vecotrs, where n_examples is the number of\n",
        "      examples and n_features is the number of features.\n",
        "    y : array-like, shape = [n_examples]\n",
        "      Target values.\n",
        "\n",
        "    Returns:\n",
        "    self : object\n",
        "    \"\"\"\n",
        "    r_gen = np.random.RandomState(self.random_seed)\n",
        "    # generate as many random weights as there are features\n",
        "    self.w_ = r_gen.normal(loc=0.0,\n",
        "                          scale=0.01,\n",
        "                          size=X.shape[1])\n",
        "    # creates a NumPy scalar of type numpy.float64 with the value 0.0.\n",
        "    self.b_ = np.float_(0.0)\n",
        "    self.errors_ = []\n",
        "\n",
        "    for _ in range(self.epochs):\n",
        "      errors = 0\n",
        "      for xi, target in zip(X, y):\n",
        "        update = self.learning_rate * (target - self.predict(xi))\n",
        "        self.w_ += update * xi\n",
        "        self.b_ += update\n",
        "        errors += int(update != 0.0)\n",
        "      self.errors_.append(errors)\n",
        "\n",
        "    return self\n",
        "\n",
        "  def net_input(self, X):\n",
        "    \"\"\"Calculate net input.\"\"\"\n",
        "    return np.dot(X, self.w_) + self.b_\n",
        "\n",
        "  def predict(self, X):\n",
        "    \"\"\"Return class label after unit step.\"\"\"\n",
        "    return np.where(self.net_input(X) >= 0.0, 1, 0)"
      ],
      "metadata": {
        "id": "u_wj8qpZFjRX"
      },
      "execution_count": null,
      "outputs": []
    },
    {
      "cell_type": "markdown",
      "source": [
        "numpy.random.RandomState.normal: https://numpy.org/doc/stable/reference/random/generated/numpy.random.RandomState.normal.html#numpy-random-randomstate-normal\n",
        "\n",
        "*   loc - Mean (“centre”) of the distribution.\n",
        "*   scale - Standard deviation (spread or “width”) of the distribution. Must be non-negative.\n",
        "*   size - Output shape.\n"
      ],
      "metadata": {
        "id": "mogD-TzVHkV9"
      }
    },
    {
      "cell_type": "markdown",
      "source": [
        "via textbook: Technically, we could initialize the weights to zero (in fact, this is done in the original perceptron algorithm).\n",
        "However, if we did that, then the learning rate 𝜂 would have no effect on the decision\n",
        "boundary. If all the weights are initialized to zero, the learning rate parameter affects only the\n",
        "scale of the weight vector, not the direction."
      ],
      "metadata": {
        "id": "mGfPETwTLNJK"
      }
    },
    {
      "cell_type": "markdown",
      "source": [
        "via textbook:\n",
        "\n",
        "**Vectorization: Replacing for loops with vectorized code**\n",
        "\n",
        "Instead of using NumPy to calculate the vector dot product between two arrays, a and b,\n",
        "via a.dot(b) or np.dot(a, b), we could also perform the calculation in pure Python\n",
        "via sum([i * j for i, j in zip(a, b)]). However, the advantage of using NumPy\n",
        "over classic Python for loop structures is that its arithmetic operations are vectorized.\n",
        "Vectorization means that an elemental arithmetic operation is automatically applied to\n",
        "all elements in an array. By formulating our arithmetic operations as a sequence of instructions\n",
        "on an array, rather than performing a set of operations for each element at a\n",
        "time, we can make better use of our modern central processing unit (CPU) architectures\n",
        "with single instruction, multiple data (SIMD) support. Furthermore, NumPy uses highly\n",
        "optimized linear algebra libraries, such as Basic Linear Algebra Subprograms (BLAS) and\n",
        "Linear Algebra Package (LAPACK), that have been written in C or Fortran. Lastly, NumPy\n",
        "also allows us to write our code in a more compact and intuitive way using the basics of\n",
        "linear algebra, such as vector and matrix dot products."
      ],
      "metadata": {
        "id": "l8NAW39yL9OP"
      }
    },
    {
      "cell_type": "markdown",
      "source": [
        "via textbook: The OvA method for multi-class classification\n",
        "OvA, which is sometimes also called one-versus-rest (OvR), is a technique that allows us to\n",
        "extend any binary classifier to multi-class problems. Using OvA, we can train one classifier\n",
        "per class, where the particular class is treated as the positive class and the examples from\n",
        "all other classes are considered negative classes. If we were to classify a new, unlabeled\n",
        "data instance, we would use our n classifiers, where n is the number of class labels, and\n",
        "assign the class label with the highest confidence to the particular instance we want to\n",
        "classify. In the case of the perceptron, we would use OvA to choose the class label that is\n",
        "associated with the largest absolute net input value."
      ],
      "metadata": {
        "id": "kMJf36pqVQSw"
      }
    },
    {
      "cell_type": "code",
      "source": [
        "s = 'https://archive.ics.uci.edu/ml/machine-learning-databases/iris/iris.data'\n",
        "print('From URL:', s)"
      ],
      "metadata": {
        "colab": {
          "base_uri": "https://localhost:8080/"
        },
        "id": "UNYM3QP5VbW-",
        "outputId": "63d3868c-5cbf-4b67-dbd6-af096012df78"
      },
      "execution_count": null,
      "outputs": [
        {
          "output_type": "stream",
          "name": "stdout",
          "text": [
            "From URL: https://archive.ics.uci.edu/ml/machine-learning-databases/iris/iris.data\n"
          ]
        }
      ]
    },
    {
      "cell_type": "code",
      "source": [
        "df = pd.read_csv(s, header=None, encoding='utf-8')\n",
        "df.tail()"
      ],
      "metadata": {
        "colab": {
          "base_uri": "https://localhost:8080/",
          "height": 221
        },
        "id": "iYT2BAfuWU_P",
        "outputId": "ebf68da3-e16e-457e-a6f0-cd7b814e57e3"
      },
      "execution_count": null,
      "outputs": [
        {
          "output_type": "execute_result",
          "data": {
            "text/plain": [
              "       0    1    2    3               4\n",
              "145  6.7  3.0  5.2  2.3  Iris-virginica\n",
              "146  6.3  2.5  5.0  1.9  Iris-virginica\n",
              "147  6.5  3.0  5.2  2.0  Iris-virginica\n",
              "148  6.2  3.4  5.4  2.3  Iris-virginica\n",
              "149  5.9  3.0  5.1  1.8  Iris-virginica"
            ],
            "text/html": [
              "\n",
              "  <div id=\"df-ff491403-15d7-413d-9eca-55ba19cd4d65\" class=\"colab-df-container\">\n",
              "    <div>\n",
              "<style scoped>\n",
              "    .dataframe tbody tr th:only-of-type {\n",
              "        vertical-align: middle;\n",
              "    }\n",
              "\n",
              "    .dataframe tbody tr th {\n",
              "        vertical-align: top;\n",
              "    }\n",
              "\n",
              "    .dataframe thead th {\n",
              "        text-align: right;\n",
              "    }\n",
              "</style>\n",
              "<table border=\"1\" class=\"dataframe\">\n",
              "  <thead>\n",
              "    <tr style=\"text-align: right;\">\n",
              "      <th></th>\n",
              "      <th>0</th>\n",
              "      <th>1</th>\n",
              "      <th>2</th>\n",
              "      <th>3</th>\n",
              "      <th>4</th>\n",
              "    </tr>\n",
              "  </thead>\n",
              "  <tbody>\n",
              "    <tr>\n",
              "      <th>145</th>\n",
              "      <td>6.7</td>\n",
              "      <td>3.0</td>\n",
              "      <td>5.2</td>\n",
              "      <td>2.3</td>\n",
              "      <td>Iris-virginica</td>\n",
              "    </tr>\n",
              "    <tr>\n",
              "      <th>146</th>\n",
              "      <td>6.3</td>\n",
              "      <td>2.5</td>\n",
              "      <td>5.0</td>\n",
              "      <td>1.9</td>\n",
              "      <td>Iris-virginica</td>\n",
              "    </tr>\n",
              "    <tr>\n",
              "      <th>147</th>\n",
              "      <td>6.5</td>\n",
              "      <td>3.0</td>\n",
              "      <td>5.2</td>\n",
              "      <td>2.0</td>\n",
              "      <td>Iris-virginica</td>\n",
              "    </tr>\n",
              "    <tr>\n",
              "      <th>148</th>\n",
              "      <td>6.2</td>\n",
              "      <td>3.4</td>\n",
              "      <td>5.4</td>\n",
              "      <td>2.3</td>\n",
              "      <td>Iris-virginica</td>\n",
              "    </tr>\n",
              "    <tr>\n",
              "      <th>149</th>\n",
              "      <td>5.9</td>\n",
              "      <td>3.0</td>\n",
              "      <td>5.1</td>\n",
              "      <td>1.8</td>\n",
              "      <td>Iris-virginica</td>\n",
              "    </tr>\n",
              "  </tbody>\n",
              "</table>\n",
              "</div>\n",
              "    <div class=\"colab-df-buttons\">\n",
              "\n",
              "  <div class=\"colab-df-container\">\n",
              "    <button class=\"colab-df-convert\" onclick=\"convertToInteractive('df-ff491403-15d7-413d-9eca-55ba19cd4d65')\"\n",
              "            title=\"Convert this dataframe to an interactive table.\"\n",
              "            style=\"display:none;\">\n",
              "\n",
              "  <svg xmlns=\"http://www.w3.org/2000/svg\" height=\"24px\" viewBox=\"0 -960 960 960\">\n",
              "    <path d=\"M120-120v-720h720v720H120Zm60-500h600v-160H180v160Zm220 220h160v-160H400v160Zm0 220h160v-160H400v160ZM180-400h160v-160H180v160Zm440 0h160v-160H620v160ZM180-180h160v-160H180v160Zm440 0h160v-160H620v160Z\"/>\n",
              "  </svg>\n",
              "    </button>\n",
              "\n",
              "  <style>\n",
              "    .colab-df-container {\n",
              "      display:flex;\n",
              "      gap: 12px;\n",
              "    }\n",
              "\n",
              "    .colab-df-convert {\n",
              "      background-color: #E8F0FE;\n",
              "      border: none;\n",
              "      border-radius: 50%;\n",
              "      cursor: pointer;\n",
              "      display: none;\n",
              "      fill: #1967D2;\n",
              "      height: 32px;\n",
              "      padding: 0 0 0 0;\n",
              "      width: 32px;\n",
              "    }\n",
              "\n",
              "    .colab-df-convert:hover {\n",
              "      background-color: #E2EBFA;\n",
              "      box-shadow: 0px 1px 2px rgba(60, 64, 67, 0.3), 0px 1px 3px 1px rgba(60, 64, 67, 0.15);\n",
              "      fill: #174EA6;\n",
              "    }\n",
              "\n",
              "    .colab-df-buttons div {\n",
              "      margin-bottom: 4px;\n",
              "    }\n",
              "\n",
              "    [theme=dark] .colab-df-convert {\n",
              "      background-color: #3B4455;\n",
              "      fill: #D2E3FC;\n",
              "    }\n",
              "\n",
              "    [theme=dark] .colab-df-convert:hover {\n",
              "      background-color: #434B5C;\n",
              "      box-shadow: 0px 1px 3px 1px rgba(0, 0, 0, 0.15);\n",
              "      filter: drop-shadow(0px 1px 2px rgba(0, 0, 0, 0.3));\n",
              "      fill: #FFFFFF;\n",
              "    }\n",
              "  </style>\n",
              "\n",
              "    <script>\n",
              "      const buttonEl =\n",
              "        document.querySelector('#df-ff491403-15d7-413d-9eca-55ba19cd4d65 button.colab-df-convert');\n",
              "      buttonEl.style.display =\n",
              "        google.colab.kernel.accessAllowed ? 'block' : 'none';\n",
              "\n",
              "      async function convertToInteractive(key) {\n",
              "        const element = document.querySelector('#df-ff491403-15d7-413d-9eca-55ba19cd4d65');\n",
              "        const dataTable =\n",
              "          await google.colab.kernel.invokeFunction('convertToInteractive',\n",
              "                                                    [key], {});\n",
              "        if (!dataTable) return;\n",
              "\n",
              "        const docLinkHtml = 'Like what you see? Visit the ' +\n",
              "          '<a target=\"_blank\" href=https://colab.research.google.com/notebooks/data_table.ipynb>data table notebook</a>'\n",
              "          + ' to learn more about interactive tables.';\n",
              "        element.innerHTML = '';\n",
              "        dataTable['output_type'] = 'display_data';\n",
              "        await google.colab.output.renderOutput(dataTable, element);\n",
              "        const docLink = document.createElement('div');\n",
              "        docLink.innerHTML = docLinkHtml;\n",
              "        element.appendChild(docLink);\n",
              "      }\n",
              "    </script>\n",
              "  </div>\n",
              "\n",
              "\n",
              "<div id=\"df-e4f896b0-5daf-47a4-b8df-90b9229064da\">\n",
              "  <button class=\"colab-df-quickchart\" onclick=\"quickchart('df-e4f896b0-5daf-47a4-b8df-90b9229064da')\"\n",
              "            title=\"Suggest charts\"\n",
              "            style=\"display:none;\">\n",
              "\n",
              "<svg xmlns=\"http://www.w3.org/2000/svg\" height=\"24px\"viewBox=\"0 0 24 24\"\n",
              "     width=\"24px\">\n",
              "    <g>\n",
              "        <path d=\"M19 3H5c-1.1 0-2 .9-2 2v14c0 1.1.9 2 2 2h14c1.1 0 2-.9 2-2V5c0-1.1-.9-2-2-2zM9 17H7v-7h2v7zm4 0h-2V7h2v10zm4 0h-2v-4h2v4z\"/>\n",
              "    </g>\n",
              "</svg>\n",
              "  </button>\n",
              "\n",
              "<style>\n",
              "  .colab-df-quickchart {\n",
              "      --bg-color: #E8F0FE;\n",
              "      --fill-color: #1967D2;\n",
              "      --hover-bg-color: #E2EBFA;\n",
              "      --hover-fill-color: #174EA6;\n",
              "      --disabled-fill-color: #AAA;\n",
              "      --disabled-bg-color: #DDD;\n",
              "  }\n",
              "\n",
              "  [theme=dark] .colab-df-quickchart {\n",
              "      --bg-color: #3B4455;\n",
              "      --fill-color: #D2E3FC;\n",
              "      --hover-bg-color: #434B5C;\n",
              "      --hover-fill-color: #FFFFFF;\n",
              "      --disabled-bg-color: #3B4455;\n",
              "      --disabled-fill-color: #666;\n",
              "  }\n",
              "\n",
              "  .colab-df-quickchart {\n",
              "    background-color: var(--bg-color);\n",
              "    border: none;\n",
              "    border-radius: 50%;\n",
              "    cursor: pointer;\n",
              "    display: none;\n",
              "    fill: var(--fill-color);\n",
              "    height: 32px;\n",
              "    padding: 0;\n",
              "    width: 32px;\n",
              "  }\n",
              "\n",
              "  .colab-df-quickchart:hover {\n",
              "    background-color: var(--hover-bg-color);\n",
              "    box-shadow: 0 1px 2px rgba(60, 64, 67, 0.3), 0 1px 3px 1px rgba(60, 64, 67, 0.15);\n",
              "    fill: var(--button-hover-fill-color);\n",
              "  }\n",
              "\n",
              "  .colab-df-quickchart-complete:disabled,\n",
              "  .colab-df-quickchart-complete:disabled:hover {\n",
              "    background-color: var(--disabled-bg-color);\n",
              "    fill: var(--disabled-fill-color);\n",
              "    box-shadow: none;\n",
              "  }\n",
              "\n",
              "  .colab-df-spinner {\n",
              "    border: 2px solid var(--fill-color);\n",
              "    border-color: transparent;\n",
              "    border-bottom-color: var(--fill-color);\n",
              "    animation:\n",
              "      spin 1s steps(1) infinite;\n",
              "  }\n",
              "\n",
              "  @keyframes spin {\n",
              "    0% {\n",
              "      border-color: transparent;\n",
              "      border-bottom-color: var(--fill-color);\n",
              "      border-left-color: var(--fill-color);\n",
              "    }\n",
              "    20% {\n",
              "      border-color: transparent;\n",
              "      border-left-color: var(--fill-color);\n",
              "      border-top-color: var(--fill-color);\n",
              "    }\n",
              "    30% {\n",
              "      border-color: transparent;\n",
              "      border-left-color: var(--fill-color);\n",
              "      border-top-color: var(--fill-color);\n",
              "      border-right-color: var(--fill-color);\n",
              "    }\n",
              "    40% {\n",
              "      border-color: transparent;\n",
              "      border-right-color: var(--fill-color);\n",
              "      border-top-color: var(--fill-color);\n",
              "    }\n",
              "    60% {\n",
              "      border-color: transparent;\n",
              "      border-right-color: var(--fill-color);\n",
              "    }\n",
              "    80% {\n",
              "      border-color: transparent;\n",
              "      border-right-color: var(--fill-color);\n",
              "      border-bottom-color: var(--fill-color);\n",
              "    }\n",
              "    90% {\n",
              "      border-color: transparent;\n",
              "      border-bottom-color: var(--fill-color);\n",
              "    }\n",
              "  }\n",
              "</style>\n",
              "\n",
              "  <script>\n",
              "    async function quickchart(key) {\n",
              "      const quickchartButtonEl =\n",
              "        document.querySelector('#' + key + ' button');\n",
              "      quickchartButtonEl.disabled = true;  // To prevent multiple clicks.\n",
              "      quickchartButtonEl.classList.add('colab-df-spinner');\n",
              "      try {\n",
              "        const charts = await google.colab.kernel.invokeFunction(\n",
              "            'suggestCharts', [key], {});\n",
              "      } catch (error) {\n",
              "        console.error('Error during call to suggestCharts:', error);\n",
              "      }\n",
              "      quickchartButtonEl.classList.remove('colab-df-spinner');\n",
              "      quickchartButtonEl.classList.add('colab-df-quickchart-complete');\n",
              "    }\n",
              "    (() => {\n",
              "      let quickchartButtonEl =\n",
              "        document.querySelector('#df-e4f896b0-5daf-47a4-b8df-90b9229064da button');\n",
              "      quickchartButtonEl.style.display =\n",
              "        google.colab.kernel.accessAllowed ? 'block' : 'none';\n",
              "    })();\n",
              "  </script>\n",
              "</div>\n",
              "\n",
              "    </div>\n",
              "  </div>\n"
            ],
            "application/vnd.google.colaboratory.intrinsic+json": {
              "type": "dataframe",
              "summary": "{\n  \"name\": \"df\",\n  \"rows\": 5,\n  \"fields\": [\n    {\n      \"column\": 0,\n      \"properties\": {\n        \"dtype\": \"number\",\n        \"std\": 0.30331501776206193,\n        \"min\": 5.9,\n        \"max\": 6.7,\n        \"num_unique_values\": 5,\n        \"samples\": [\n          6.3,\n          5.9,\n          6.5\n        ],\n        \"semantic_type\": \"\",\n        \"description\": \"\"\n      }\n    },\n    {\n      \"column\": 1,\n      \"properties\": {\n        \"dtype\": \"number\",\n        \"std\": 0.31937438845342625,\n        \"min\": 2.5,\n        \"max\": 3.4,\n        \"num_unique_values\": 3,\n        \"samples\": [\n          3.0,\n          2.5,\n          3.4\n        ],\n        \"semantic_type\": \"\",\n        \"description\": \"\"\n      }\n    },\n    {\n      \"column\": 2,\n      \"properties\": {\n        \"dtype\": \"number\",\n        \"std\": 0.14832396974191348,\n        \"min\": 5.0,\n        \"max\": 5.4,\n        \"num_unique_values\": 4,\n        \"samples\": [\n          5.0,\n          5.1,\n          5.2\n        ],\n        \"semantic_type\": \"\",\n        \"description\": \"\"\n      }\n    },\n    {\n      \"column\": 3,\n      \"properties\": {\n        \"dtype\": \"number\",\n        \"std\": 0.23021728866442667,\n        \"min\": 1.8,\n        \"max\": 2.3,\n        \"num_unique_values\": 4,\n        \"samples\": [\n          1.9,\n          1.8,\n          2.3\n        ],\n        \"semantic_type\": \"\",\n        \"description\": \"\"\n      }\n    },\n    {\n      \"column\": 4,\n      \"properties\": {\n        \"dtype\": \"category\",\n        \"num_unique_values\": 1,\n        \"samples\": [\n          \"Iris-virginica\"\n        ],\n        \"semantic_type\": \"\",\n        \"description\": \"\"\n      }\n    }\n  ]\n}"
            }
          },
          "metadata": {},
          "execution_count": 7
        }
      ]
    },
    {
      "cell_type": "code",
      "source": [
        "df.shape"
      ],
      "metadata": {
        "colab": {
          "base_uri": "https://localhost:8080/"
        },
        "id": "Z4BTUXfHXM4t",
        "outputId": "2dcd111d-a5a5-403d-a303-6480fdedaf03"
      },
      "execution_count": null,
      "outputs": [
        {
          "output_type": "execute_result",
          "data": {
            "text/plain": [
              "(150, 5)"
            ]
          },
          "metadata": {},
          "execution_count": 10
        }
      ]
    },
    {
      "cell_type": "markdown",
      "source": [
        "The 0-50 is Iris-setosa, 50-100 is Iris-versicolor, 100-150 is Iris-virginica."
      ],
      "metadata": {
        "id": "QxxjUTikXdVs"
      }
    },
    {
      "cell_type": "code",
      "source": [
        "# select setosa and versicolor\n",
        "# get the fifth column for rows 0-99\n",
        "y = df.iloc[0:100, 4].values\n",
        "y"
      ],
      "metadata": {
        "colab": {
          "base_uri": "https://localhost:8080/"
        },
        "id": "xpoDpFkSW2mU",
        "outputId": "84ab8133-ef5e-4441-b5eb-5ee951724f74"
      },
      "execution_count": null,
      "outputs": [
        {
          "output_type": "execute_result",
          "data": {
            "text/plain": [
              "array(['Iris-setosa', 'Iris-setosa', 'Iris-setosa', 'Iris-setosa',\n",
              "       'Iris-setosa', 'Iris-setosa', 'Iris-setosa', 'Iris-setosa',\n",
              "       'Iris-setosa', 'Iris-setosa', 'Iris-setosa', 'Iris-setosa',\n",
              "       'Iris-setosa', 'Iris-setosa', 'Iris-setosa', 'Iris-setosa',\n",
              "       'Iris-setosa', 'Iris-setosa', 'Iris-setosa', 'Iris-setosa',\n",
              "       'Iris-setosa', 'Iris-setosa', 'Iris-setosa', 'Iris-setosa',\n",
              "       'Iris-setosa', 'Iris-setosa', 'Iris-setosa', 'Iris-setosa',\n",
              "       'Iris-setosa', 'Iris-setosa', 'Iris-setosa', 'Iris-setosa',\n",
              "       'Iris-setosa', 'Iris-setosa', 'Iris-setosa', 'Iris-setosa',\n",
              "       'Iris-setosa', 'Iris-setosa', 'Iris-setosa', 'Iris-setosa',\n",
              "       'Iris-setosa', 'Iris-setosa', 'Iris-setosa', 'Iris-setosa',\n",
              "       'Iris-setosa', 'Iris-setosa', 'Iris-setosa', 'Iris-setosa',\n",
              "       'Iris-setosa', 'Iris-setosa', 'Iris-versicolor', 'Iris-versicolor',\n",
              "       'Iris-versicolor', 'Iris-versicolor', 'Iris-versicolor',\n",
              "       'Iris-versicolor', 'Iris-versicolor', 'Iris-versicolor',\n",
              "       'Iris-versicolor', 'Iris-versicolor', 'Iris-versicolor',\n",
              "       'Iris-versicolor', 'Iris-versicolor', 'Iris-versicolor',\n",
              "       'Iris-versicolor', 'Iris-versicolor', 'Iris-versicolor',\n",
              "       'Iris-versicolor', 'Iris-versicolor', 'Iris-versicolor',\n",
              "       'Iris-versicolor', 'Iris-versicolor', 'Iris-versicolor',\n",
              "       'Iris-versicolor', 'Iris-versicolor', 'Iris-versicolor',\n",
              "       'Iris-versicolor', 'Iris-versicolor', 'Iris-versicolor',\n",
              "       'Iris-versicolor', 'Iris-versicolor', 'Iris-versicolor',\n",
              "       'Iris-versicolor', 'Iris-versicolor', 'Iris-versicolor',\n",
              "       'Iris-versicolor', 'Iris-versicolor', 'Iris-versicolor',\n",
              "       'Iris-versicolor', 'Iris-versicolor', 'Iris-versicolor',\n",
              "       'Iris-versicolor', 'Iris-versicolor', 'Iris-versicolor',\n",
              "       'Iris-versicolor', 'Iris-versicolor', 'Iris-versicolor',\n",
              "       'Iris-versicolor', 'Iris-versicolor', 'Iris-versicolor'],\n",
              "      dtype=object)"
            ]
          },
          "metadata": {},
          "execution_count": 17
        }
      ]
    },
    {
      "cell_type": "code",
      "source": [
        "# mark setosa as 0 and versicolor as 1\n",
        "# these are the class labels\n",
        "y = np.where(y == \"Iris-setosa\", 0, 1)\n",
        "y"
      ],
      "metadata": {
        "colab": {
          "base_uri": "https://localhost:8080/"
        },
        "id": "fnP1FsZAX74M",
        "outputId": "41355974-92b6-4ac3-d60f-730584d349b2"
      },
      "execution_count": null,
      "outputs": [
        {
          "output_type": "execute_result",
          "data": {
            "text/plain": [
              "array([0, 0, 0, 0, 0, 0, 0, 0, 0, 0, 0, 0, 0, 0, 0, 0, 0, 0, 0, 0, 0, 0,\n",
              "       0, 0, 0, 0, 0, 0, 0, 0, 0, 0, 0, 0, 0, 0, 0, 0, 0, 0, 0, 0, 0, 0,\n",
              "       0, 0, 0, 0, 0, 0, 1, 1, 1, 1, 1, 1, 1, 1, 1, 1, 1, 1, 1, 1, 1, 1,\n",
              "       1, 1, 1, 1, 1, 1, 1, 1, 1, 1, 1, 1, 1, 1, 1, 1, 1, 1, 1, 1, 1, 1,\n",
              "       1, 1, 1, 1, 1, 1, 1, 1, 1, 1, 1, 1])"
            ]
          },
          "metadata": {},
          "execution_count": 18
        }
      ]
    },
    {
      "cell_type": "code",
      "source": [
        "# get two features:\n",
        "# sepal length at column 0\n",
        "# petal length at column 2\n",
        "# get column 0 and 2 for rows 0-99\n",
        "X = df.iloc[0:100, [0, 2]].values\n",
        "X"
      ],
      "metadata": {
        "colab": {
          "base_uri": "https://localhost:8080/"
        },
        "id": "xp-fZ2DUYdGD",
        "outputId": "90e3a0cf-9d50-48a1-de6c-03c082c85143"
      },
      "execution_count": null,
      "outputs": [
        {
          "output_type": "execute_result",
          "data": {
            "text/plain": [
              "array([[5.1, 1.4],\n",
              "       [4.9, 1.4],\n",
              "       [4.7, 1.3],\n",
              "       [4.6, 1.5],\n",
              "       [5. , 1.4],\n",
              "       [5.4, 1.7],\n",
              "       [4.6, 1.4],\n",
              "       [5. , 1.5],\n",
              "       [4.4, 1.4],\n",
              "       [4.9, 1.5],\n",
              "       [5.4, 1.5],\n",
              "       [4.8, 1.6],\n",
              "       [4.8, 1.4],\n",
              "       [4.3, 1.1],\n",
              "       [5.8, 1.2],\n",
              "       [5.7, 1.5],\n",
              "       [5.4, 1.3],\n",
              "       [5.1, 1.4],\n",
              "       [5.7, 1.7],\n",
              "       [5.1, 1.5],\n",
              "       [5.4, 1.7],\n",
              "       [5.1, 1.5],\n",
              "       [4.6, 1. ],\n",
              "       [5.1, 1.7],\n",
              "       [4.8, 1.9],\n",
              "       [5. , 1.6],\n",
              "       [5. , 1.6],\n",
              "       [5.2, 1.5],\n",
              "       [5.2, 1.4],\n",
              "       [4.7, 1.6],\n",
              "       [4.8, 1.6],\n",
              "       [5.4, 1.5],\n",
              "       [5.2, 1.5],\n",
              "       [5.5, 1.4],\n",
              "       [4.9, 1.5],\n",
              "       [5. , 1.2],\n",
              "       [5.5, 1.3],\n",
              "       [4.9, 1.5],\n",
              "       [4.4, 1.3],\n",
              "       [5.1, 1.5],\n",
              "       [5. , 1.3],\n",
              "       [4.5, 1.3],\n",
              "       [4.4, 1.3],\n",
              "       [5. , 1.6],\n",
              "       [5.1, 1.9],\n",
              "       [4.8, 1.4],\n",
              "       [5.1, 1.6],\n",
              "       [4.6, 1.4],\n",
              "       [5.3, 1.5],\n",
              "       [5. , 1.4],\n",
              "       [7. , 4.7],\n",
              "       [6.4, 4.5],\n",
              "       [6.9, 4.9],\n",
              "       [5.5, 4. ],\n",
              "       [6.5, 4.6],\n",
              "       [5.7, 4.5],\n",
              "       [6.3, 4.7],\n",
              "       [4.9, 3.3],\n",
              "       [6.6, 4.6],\n",
              "       [5.2, 3.9],\n",
              "       [5. , 3.5],\n",
              "       [5.9, 4.2],\n",
              "       [6. , 4. ],\n",
              "       [6.1, 4.7],\n",
              "       [5.6, 3.6],\n",
              "       [6.7, 4.4],\n",
              "       [5.6, 4.5],\n",
              "       [5.8, 4.1],\n",
              "       [6.2, 4.5],\n",
              "       [5.6, 3.9],\n",
              "       [5.9, 4.8],\n",
              "       [6.1, 4. ],\n",
              "       [6.3, 4.9],\n",
              "       [6.1, 4.7],\n",
              "       [6.4, 4.3],\n",
              "       [6.6, 4.4],\n",
              "       [6.8, 4.8],\n",
              "       [6.7, 5. ],\n",
              "       [6. , 4.5],\n",
              "       [5.7, 3.5],\n",
              "       [5.5, 3.8],\n",
              "       [5.5, 3.7],\n",
              "       [5.8, 3.9],\n",
              "       [6. , 5.1],\n",
              "       [5.4, 4.5],\n",
              "       [6. , 4.5],\n",
              "       [6.7, 4.7],\n",
              "       [6.3, 4.4],\n",
              "       [5.6, 4.1],\n",
              "       [5.5, 4. ],\n",
              "       [5.5, 4.4],\n",
              "       [6.1, 4.6],\n",
              "       [5.8, 4. ],\n",
              "       [5. , 3.3],\n",
              "       [5.6, 4.2],\n",
              "       [5.7, 4.2],\n",
              "       [5.7, 4.2],\n",
              "       [6.2, 4.3],\n",
              "       [5.1, 3. ],\n",
              "       [5.7, 4.1]])"
            ]
          },
          "metadata": {},
          "execution_count": 19
        }
      ]
    },
    {
      "cell_type": "code",
      "source": [
        "# plot data\n",
        "# setosa (rows 0-49) sepal length (col 0)\n",
        "# setosa (rows 0-49) petal length (col 1)\n",
        "plt.scatter(X[:50, 0], X[:50, 1], color=\"red\", marker=\"o\", label=\"Setosa\")\n",
        "# versicolor (rows 50-99) sepal length (col 0)\n",
        "# versicolor (rows 50-99) petal length (col 1)\n",
        "plt.scatter(X[50:100, 0], X[50:100, 1], color=\"blue\", marker=\"s\", label=\"Versicolor\")\n",
        "plt.xlabel(\"Sepal length [cm]\")\n",
        "plt.ylabel(\"Petal length [cm]\")\n",
        "plt.legend(loc=\"upper left\")\n",
        "plt.show()"
      ],
      "metadata": {
        "colab": {
          "base_uri": "https://localhost:8080/",
          "height": 470
        },
        "id": "e-yJWVBZYzyR",
        "outputId": "2128324b-c9fd-492e-c02b-f230af7d6cb1"
      },
      "execution_count": null,
      "outputs": [
        {
          "output_type": "display_data",
          "data": {
            "text/plain": [
              "<Figure size 640x480 with 1 Axes>"
            ],
            "image/png": "[encoded data removed]"
          },
          "metadata": {}
        }
      ]
    },
    {
      "cell_type": "code",
      "source": [
        "ppn = Perceptron(learning_rate=0.1, epochs=10)\n",
        "ppn.fit(X, y)\n",
        "plt.plot(range(1, len(ppn.errors_)+1), ppn.errors_, marker=\"o\")\n",
        "plt.xlabel(\"Epochs\")\n",
        "plt.ylabel(\"Number of updates\")\n",
        "plt.show()"
      ],
      "metadata": {
        "colab": {
          "base_uri": "https://localhost:8080/",
          "height": 470
        },
        "id": "OgQXtXKEaRg6",
        "outputId": "039c46ea-46fb-494b-8098-fe62cc081d95"
      },
      "execution_count": null,
      "outputs": [
        {
          "output_type": "display_data",
          "data": {
            "text/plain": [
              "<Figure size 640x480 with 1 Axes>"
            ],
            "image/png": "[encoded data removed]"
          },
          "metadata": {}
        }
      ]
    },
    {
      "cell_type": "markdown",
      "source": [
        "Note that the number of misclassification errors and the number of updates is the same, since the\n",
        "perceptron weights and bias are updated each time it misclassifies an example."
      ],
      "metadata": {
        "id": "T_q7pcila_IY"
      }
    },
    {
      "cell_type": "markdown",
      "source": [
        "numpy.meshgrid: https://numpy.org/doc/stable/reference/generated/numpy.meshgrid.html\n",
        "\n",
        "numpy.arange: https://numpy.org/doc/stable/reference/generated/numpy.arange.html\n",
        "\n",
        "numpy.ravel: https://numpy.org/doc/stable/reference/generated/numpy.ravel.html\n",
        "\n",
        "numpy.reshape: https://numpy.org/doc/stable/reference/generated/numpy.reshape.html"
      ],
      "metadata": {
        "id": "TKQaGhlScuRh"
      }
    },
    {
      "cell_type": "code",
      "source": [
        "def plot_decision_regions(X, y, classifier, resolution=0.02):\n",
        "    markers = ('o', 's', '^', 'v', '<')  # Marker symbols for different classes\n",
        "    colors = ('red', 'blue', 'lightgreen', 'gray', 'cyan')  # Colors for different classes\n",
        "    cmap = ListedColormap(colors[:len(np.unique(y))])  # Create a colormap based on unique class labels\n",
        "\n",
        "    # Define the ranges for the grid (meshgrid) based on the input feature data X\n",
        "    x1_min, x1_max = X[:, 0].min() - 1, X[:, 0].max() + 1  # Range for feature 1\n",
        "    x2_min, x2_max = X[:, 1].min() - 1, X[:, 1].max() + 1  # Range for feature 2\n",
        "\n",
        "    # Create a meshgrid using the defined ranges and resolution\n",
        "    xx1, xx2 = np.meshgrid(np.arange(x1_min, x1_max, resolution),\n",
        "                           np.arange(x2_min, x2_max, resolution))\n",
        "\n",
        "    # Predict the class labels for each point in the meshgrid\n",
        "    lab = classifier.predict(np.array([xx1.ravel(), xx2.ravel()]).T)\n",
        "    print(\"lab shape: \", lab.shape)  # Print the shape of the predicted labels\n",
        "    lab = lab.reshape(xx1.shape)  # Reshape the predicted labels to match the shape of the meshgrid\n",
        "    print(\"xx1.shape: \", xx1.shape)  # Print the shape of the meshgrid\n",
        "\n",
        "    # Plot the decision regions based on the predicted labels\n",
        "    plt.contourf(xx1, xx2, lab, alpha=0.3, cmap=cmap)\n",
        "    plt.xlim(xx1.min(), xx1.max())  # Set the x-axis limits\n",
        "    plt.ylim(xx2.min(), xx2.max())  # Set the y-axis limits\n",
        "\n",
        "    # Plot the data points for each class\n",
        "    for idx, cl in enumerate(np.unique(y)):\n",
        "        plt.scatter(x=X[y == cl, 0],  # X coordinates for points of class cl\n",
        "                    y=X[y == cl, 1],  # Y coordinates for points of class cl\n",
        "                    alpha=0.8,  # Transparency of markers\n",
        "                    c=colors[idx],  # Color for points of class cl\n",
        "                    marker=markers[idx],  # Marker symbol for points of class cl\n",
        "                    label=f'Class {cl}',  # Label for the legend\n",
        "                    edgecolor='black')  # Edge color of markers\n"
      ],
      "metadata": {
        "id": "_F3opfsVbK9q"
      },
      "execution_count": null,
      "outputs": []
    },
    {
      "cell_type": "code",
      "source": [
        "plot_decision_regions(X, y, classifier=ppn)\n",
        "plt.xlabel(\"Sepal length [cm]\")\n",
        "plt.ylabel(\"Petal length [cm]\")\n",
        "plt.legend(loc=\"upper left\")\n",
        "plt.show()"
      ],
      "metadata": {
        "colab": {
          "base_uri": "https://localhost:8080/",
          "height": 504
        },
        "id": "cWQD8WIlbq3J",
        "outputId": "05269302-91d7-4ade-b529-618290a2cbe8"
      },
      "execution_count": null,
      "outputs": [
        {
          "output_type": "stream",
          "name": "stdout",
          "text": [
            "lab shape:  (71675,)\n",
            "xx1.shape:  (305, 235)\n"
          ]
        },
        {
          "output_type": "display_data",
          "data": {
            "text/plain": [
              "<Figure size 640x480 with 1 Axes>"
            ],
            "image/png": "[encoded data removed]"
          },
          "metadata": {}
        }
      ]
    }
  ]
}